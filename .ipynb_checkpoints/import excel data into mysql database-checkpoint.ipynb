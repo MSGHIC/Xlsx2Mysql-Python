{
 "cells": [
  {
   "cell_type": "code",
   "execution_count": 26,
   "metadata": {},
   "outputs": [],
   "source": [
    "import pymysql\n",
    "pymysql.install_as_MySQLdb()\n",
    "import MySQLdb\n",
    "from openpyxl import load_workbook"
   ]
  },
  {
   "cell_type": "code",
   "execution_count": 27,
   "metadata": {},
   "outputs": [],
   "source": [
    "database = MySQLdb.connect (host=\"localhost\" , user=\"MSG\" , passwd=\"MSG19900\" ,db=\"hwcoredata\")\n",
    "cursor = database.cursor()"
   ]
  },
  {
   "cell_type": "code",
   "execution_count": 28,
   "metadata": {},
   "outputs": [],
   "source": [
    "hubenergy_table = (\"CREATE TABLE IF NOT EXISTS hubenergy(id varchar(10),Production decimal(5,2) NOT NULL,Consumption decimal(5,2) NOT NULL, date_month date NOT NULL)\")"
   ]
  },
  {
   "cell_type": "code",
   "execution_count": 29,
   "metadata": {},
   "outputs": [
    {
     "data": {
      "text/plain": [
       "0"
      ]
     },
     "execution_count": 29,
     "metadata": {},
     "output_type": "execute_result"
    }
   ],
   "source": [
    "cursor.execute(product_details_table)"
   ]
  },
  {
   "cell_type": "code",
   "execution_count": 30,
   "metadata": {},
   "outputs": [],
   "source": [
    "#read excel_sheet"
   ]
  },
  {
   "cell_type": "code",
   "execution_count": 61,
   "metadata": {},
   "outputs": [],
   "source": [
    "wb = load_workbook(filename = 'hub_energy_data.xlsx')\n",
    "#ws = wb[wb.sheetnames[0]] # Select the first sheet\n",
    "ws = wb['Sheet1']# or use the sheetname directly\n"
   ]
  },
  {
   "cell_type": "code",
   "execution_count": 62,
   "metadata": {},
   "outputs": [
    {
     "data": {
      "text/plain": [
       "['Date', 'Hub', 'Hub_ID', 'Production(kWh)', 'Consumption(kWh)']"
      ]
     },
     "execution_count": 62,
     "metadata": {},
     "output_type": "execute_result"
    }
   ],
   "source": [
    "column_heading = [ws.cell(row=1,column=x).value for x in  range(1,columns+1)]#get column headings\n",
    "column_heading"
   ]
  },
  {
   "cell_type": "code",
   "execution_count": 63,
   "metadata": {},
   "outputs": [
    {
     "data": {
      "text/plain": [
       "6"
      ]
     },
     "execution_count": 63,
     "metadata": {},
     "output_type": "execute_result"
    }
   ],
   "source": [
    "rows = ws.max_row # Get the maximum number of rows in the table\n",
    "rows"
   ]
  },
  {
   "cell_type": "code",
   "execution_count": 64,
   "metadata": {},
   "outputs": [
    {
     "data": {
      "text/plain": [
       "5"
      ]
     },
     "execution_count": 64,
     "metadata": {},
     "output_type": "execute_result"
    }
   ],
   "source": [
    "columns = ws.max_column   # Get the maximum number of columns in the table\n",
    "columns"
   ]
  },
  {
   "cell_type": "code",
   "execution_count": 83,
   "metadata": {},
   "outputs": [
    {
     "name": "stdout",
     "output_type": "stream",
     "text": [
      "[datetime.datetime(2022, 1, 31, 0, 0), 'Best Future Center', 'UGNKV009', 60.01, 46.56, datetime.datetime(2021, 12, 30, 0, 0), 'Rubondo youth center', 'UGNKV012', 60.01, 46.56, datetime.datetime(2022, 1, 15, 0, 0), 'Rubondo youth center', 'UGNKV012', 60.01, 46.56, datetime.datetime(2022, 1, 13, 0, 0), 'Harugongo Primary School', 'UGFPT007', 60.01, 46.56, datetime.datetime(2022, 1, 14, 0, 0), 'Kashojwa Fishing Village', 'UGNKV013', 60.01, 46.56]\n",
      "Best Future Center\n",
      "Rubondo youth center\n",
      "Rubondo youth center\n",
      "Harugongo Primary School\n",
      "Kashojwa Fishing Village\n"
     ]
    }
   ],
   "source": [
    "data = []  #capture data to send to mysql\n",
    "data_start_line = 2 # ignore headings\n",
    "for row in range(data_start_line, rows + 1):\n",
    "    for column in range(1, columns + 1):  \n",
    "         data.append((ws.cell(row=row, column=column).value)) \n",
    "print(data)\n",
    "\n",
    "\n",
    "####delete this"
   ]
  },
  {
   "cell_type": "code",
   "execution_count": 84,
   "metadata": {},
   "outputs": [
    {
     "ename": "SyntaxError",
     "evalue": "Missing parentheses in call to 'print'. Did you mean print('###############')? (<ipython-input-84-782a50cfbf23>, line 2)",
     "output_type": "error",
     "traceback": [
      "\u001b[1;36m  File \u001b[1;32m\"<ipython-input-84-782a50cfbf23>\"\u001b[1;36m, line \u001b[1;32m2\u001b[0m\n\u001b[1;33m    print '###############'\u001b[0m\n\u001b[1;37m          ^\u001b[0m\n\u001b[1;31mSyntaxError\u001b[0m\u001b[1;31m:\u001b[0m Missing parentheses in call to 'print'. Did you mean print('###############')?\n"
     ]
    }
   ],
   "source": [
    "for row in range(data_start_line, rows + 1):\n",
    "    print ('###############')\n",
    "    print 'row '+ repr(each) + ' inserted'\n",
    "    print ('###############')\n",
    "    \n",
    "    month_date = ws.cell(row=row, column=1).value    #month_date\n",
    "    hub = ws.cell(row=row, column=2).value    #hub\n",
    "    print (hub)\n",
    "    "
   ]
  },
  {
   "cell_type": "code",
   "execution_count": null,
   "metadata": {},
   "outputs": [],
   "source": []
  },
  {
   "cell_type": "code",
   "execution_count": null,
   "metadata": {},
   "outputs": [],
   "source": []
  },
  {
   "cell_type": "code",
   "execution_count": null,
   "metadata": {},
   "outputs": [],
   "source": []
  },
  {
   "cell_type": "code",
   "execution_count": null,
   "metadata": {},
   "outputs": [],
   "source": []
  },
  {
   "cell_type": "code",
   "execution_count": 8,
   "metadata": {},
   "outputs": [],
   "source": [
    "insert_query = \"INSERT INTO product_details (product_id,product_name,product_price,product_rating,product_star_rating,product_url) VALUES (%s,%s,%s,%s,%s,%s)\""
   ]
  },
  {
   "cell_type": "code",
   "execution_count": 9,
   "metadata": {},
   "outputs": [],
   "source": [
    "for sh in range(0,len(sheet_ranges)):\n",
    "    sheet= excel_sheet.sheet_by_index(sh)\n",
    "    \n",
    "    for r in range(1,sheet.nrows):\n",
    "        product_id = sheet.cell(r,0).value\n",
    "\n",
    "        product_name = sheet.cell(r,1).value\n",
    "\n",
    "        product_price = sheet.cell(r,2).value\n",
    "     \n",
    "        product_rating = sheet.cell(r,3).value\n",
    "      \n",
    "        product_star_rating = sheet.cell(r,4).value\n",
    "        \n",
    "        product_url = sheet.cell(r,5).value\n",
    "        \n",
    "        product_details_value = (product_id,product_name,product_price,product_rating,product_star_rating,product_url)\n",
    "        \n",
    "        \n",
    "        cursor.execute(insert_query,product_details_value)\n",
    "        database.commit()"
   ]
  },
  {
   "cell_type": "code",
   "execution_count": null,
   "metadata": {},
   "outputs": [],
   "source": []
  }
 ],
 "metadata": {
  "kernelspec": {
   "display_name": "Python 3",
   "language": "python",
   "name": "python3"
  },
  "language_info": {
   "codemirror_mode": {
    "name": "ipython",
    "version": 3
   },
   "file_extension": ".py",
   "mimetype": "text/x-python",
   "name": "python",
   "nbconvert_exporter": "python",
   "pygments_lexer": "ipython3",
   "version": "3.8.8"
  }
 },
 "nbformat": 4,
 "nbformat_minor": 2
}
