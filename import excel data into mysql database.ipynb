{
 "cells": [
  {
   "cell_type": "code",
   "execution_count": 90,
   "metadata": {},
   "outputs": [],
   "source": [
    "import pymysql\n",
    "pymysql.install_as_MySQLdb()\n",
    "import MySQLdb\n",
    "from openpyxl import load_workbook"
   ]
  },
  {
   "cell_type": "code",
   "execution_count": 102,
   "metadata": {},
   "outputs": [],
   "source": [
    "database = MySQLdb.connect (host=\"localhost\" , user=\"MSG\" , passwd=\"MSG19900\" ,db=\"hwcoredata\")\n",
    "cursor = database.cursor()"
   ]
  },
  {
   "cell_type": "code",
   "execution_count": 103,
   "metadata": {},
   "outputs": [],
   "source": [
    "hubenergy_table = (\"CREATE TABLE IF NOT EXISTS hubenergy(date_month date NOT NULL, hub varchar(50) ,hub_id varchar(10),Production decimal(5,2) NOT NULL,Consumption decimal(5,2) NOT NULL )\")"
   ]
  },
  {
   "cell_type": "code",
   "execution_count": 104,
   "metadata": {},
   "outputs": [
    {
     "data": {
      "text/plain": [
       "0"
      ]
     },
     "execution_count": 104,
     "metadata": {},
     "output_type": "execute_result"
    }
   ],
   "source": [
    "cursor.execute(hubenergy_table)"
   ]
  },
  {
   "cell_type": "code",
   "execution_count": 94,
   "metadata": {},
   "outputs": [],
   "source": [
    "#read excel_sheet"
   ]
  },
  {
   "cell_type": "code",
   "execution_count": 105,
   "metadata": {},
   "outputs": [],
   "source": [
    "wb = load_workbook(filename = 'hub_energy_data.xlsx')\n",
    "#ws = wb[wb.sheetnames[0]] # Select the first sheet\n",
    "ws = wb['Sheet1']# or use the sheetname directly\n"
   ]
  },
  {
   "cell_type": "code",
   "execution_count": 106,
   "metadata": {},
   "outputs": [
    {
     "data": {
      "text/plain": [
       "['Date', 'Hub', 'Hub_ID', 'Production(kWh)', 'Consumption(kWh)']"
      ]
     },
     "execution_count": 106,
     "metadata": {},
     "output_type": "execute_result"
    }
   ],
   "source": [
    "column_heading = [ws.cell(row=1,column=x).value for x in  range(1,columns+1)]#get column headings\n",
    "column_heading"
   ]
  },
  {
   "cell_type": "code",
   "execution_count": 107,
   "metadata": {},
   "outputs": [
    {
     "data": {
      "text/plain": [
       "6"
      ]
     },
     "execution_count": 107,
     "metadata": {},
     "output_type": "execute_result"
    }
   ],
   "source": [
    "rows = ws.max_row # Get the maximum number of rows in the table\n",
    "rows"
   ]
  },
  {
   "cell_type": "code",
   "execution_count": 108,
   "metadata": {},
   "outputs": [
    {
     "data": {
      "text/plain": [
       "5"
      ]
     },
     "execution_count": 108,
     "metadata": {},
     "output_type": "execute_result"
    }
   ],
   "source": [
    "columns = ws.max_column   # Get the maximum number of columns in the table\n",
    "columns"
   ]
  },
  {
   "cell_type": "code",
   "execution_count": 112,
   "metadata": {},
   "outputs": [
    {
     "name": "stdout",
     "output_type": "stream",
     "text": [
      "###############\n",
      "row 2 inserted\n",
      "###############\n",
      "###############\n",
      "row 3 inserted\n",
      "###############\n",
      "###############\n",
      "row 4 inserted\n",
      "###############\n",
      "###############\n",
      "row 5 inserted\n",
      "###############\n",
      "###############\n",
      "row 6 inserted\n",
      "###############\n"
     ]
    }
   ],
   "source": [
    "for row in range(data_start_line, rows + 1):\n",
    "    print ('###############')\n",
    "    print ('row '+ str(row) + ' inserted')\n",
    "    print ('###############')\n",
    "    \n",
    "    date_month= ws.cell(row=row, column=1).value    #month_date\n",
    "    hub = ws.cell(row=row, column=2).value    #hub\n",
    "    hub_id = ws.cell(row=row, column=3).value    #hub_id\n",
    "    production = ws.cell(row=row, column=4).value    #production\n",
    "    consumption = ws.cell(row=row, column=5).value    #consumption\n",
    "    \n",
    "    query = \"\"\"insert into hubenergy (date_month, hub,hub_id ,Production , Consumption) values (\"%s\",\"%s\",\"%s\",\"%s\",\"%s\")\"\"\"%( date_month, hub,hub_id ,production , consumption)\n",
    "\n",
    "    #print query\n",
    "    \n",
    "    cursor.execute(query)\n",
    "    database.commit()\n",
    "    \n",
    "    \n",
    "    "
   ]
  }
 ],
 "metadata": {
  "kernelspec": {
   "display_name": "Python 3",
   "language": "python",
   "name": "python3"
  },
  "language_info": {
   "codemirror_mode": {
    "name": "ipython",
    "version": 3
   },
   "file_extension": ".py",
   "mimetype": "text/x-python",
   "name": "python",
   "nbconvert_exporter": "python",
   "pygments_lexer": "ipython3",
   "version": "3.8.8"
  }
 },
 "nbformat": 4,
 "nbformat_minor": 2
}
